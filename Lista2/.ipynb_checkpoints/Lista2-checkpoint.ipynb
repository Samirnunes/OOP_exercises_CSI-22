{
 "cells": [
  {
   "cell_type": "markdown",
   "id": "ad078a73",
   "metadata": {},
   "source": [
    "## Lista de Exercícios 2 - CSI-22"
   ]
  },
  {
   "cell_type": "code",
   "execution_count": 1,
   "id": "d2a9886a",
   "metadata": {},
   "outputs": [],
   "source": [
    "import math"
   ]
  },
  {
   "cell_type": "markdown",
   "id": "3fa897ec",
   "metadata": {},
   "source": [
    "### Exercício 1"
   ]
  },
  {
   "cell_type": "code",
   "execution_count": 2,
   "id": "15486395",
   "metadata": {},
   "outputs": [],
   "source": [
    "def remove_empty_tuples(list_of_tuples):\n",
    "    return [tp for tp in list_of_tuples if tp]"
   ]
  },
  {
   "cell_type": "code",
   "execution_count": 3,
   "id": "3f225a50",
   "metadata": {},
   "outputs": [
    {
     "data": {
      "text/plain": [
       "[(1, 2), (1, 5, 6), (), (), (), (18374, 12848), (), ()]"
      ]
     },
     "execution_count": 3,
     "metadata": {},
     "output_type": "execute_result"
    }
   ],
   "source": [
    "list_of_tuples = [(1, 2), (1, 5, 6), (), (), (), (18374, 12848), (), ()]\n",
    "list_of_tuples"
   ]
  },
  {
   "cell_type": "code",
   "execution_count": 4,
   "id": "78c8143e",
   "metadata": {},
   "outputs": [
    {
     "data": {
      "text/plain": [
       "[(1, 2), (1, 5, 6), (18374, 12848)]"
      ]
     },
     "execution_count": 4,
     "metadata": {},
     "output_type": "execute_result"
    }
   ],
   "source": [
    "clean_list_of_tuples = remove_empty_tuples(list_of_tuples)\n",
    "clean_list_of_tuples"
   ]
  },
  {
   "cell_type": "markdown",
   "id": "f5838787",
   "metadata": {},
   "source": [
    "### Exercício 2"
   ]
  },
  {
   "cell_type": "code",
   "execution_count": 5,
   "id": "e71a442d",
   "metadata": {},
   "outputs": [],
   "source": [
    "def get_mean_value_tuple(tuple_of_tuples):\n",
    "    mean = lambda tp: sum(tp)/len(tp)\n",
    "    return tuple(mean(tp) for tp in tuple_of_tuples)"
   ]
  },
  {
   "cell_type": "code",
   "execution_count": 6,
   "id": "c90f6625",
   "metadata": {},
   "outputs": [
    {
     "data": {
      "text/plain": [
       "((2, 3, 4), (3, 4, 5, 6), (2, 4), (4, 8, 9))"
      ]
     },
     "execution_count": 6,
     "metadata": {},
     "output_type": "execute_result"
    }
   ],
   "source": [
    "tuple_of_tuples = ((2,3,4),(3,4,5,6),(2,4),(4,8,9))\n",
    "tuple_of_tuples"
   ]
  },
  {
   "cell_type": "code",
   "execution_count": 7,
   "id": "db3e5258",
   "metadata": {},
   "outputs": [
    {
     "data": {
      "text/plain": [
       "(3.0, 4.5, 3.0, 7.0)"
      ]
     },
     "execution_count": 7,
     "metadata": {},
     "output_type": "execute_result"
    }
   ],
   "source": [
    "means_tuple = get_mean_value_tuple(tuple_of_tuples)\n",
    "means_tuple"
   ]
  },
  {
   "cell_type": "markdown",
   "id": "04c6941a",
   "metadata": {},
   "source": [
    "### Exercício 3"
   ]
  },
  {
   "cell_type": "code",
   "execution_count": 8,
   "id": "a158cb68",
   "metadata": {},
   "outputs": [],
   "source": [
    "def alphanum_strings_list(strings_list):\n",
    "    result_list = []\n",
    "    for s in strings_list:\n",
    "        if any([c.isalpha() for c in s]) and any([c.isdigit() for c in s]):\n",
    "            result_list.append(s)\n",
    "    return result_list"
   ]
  },
  {
   "cell_type": "code",
   "execution_count": 9,
   "id": "07c42a34",
   "metadata": {},
   "outputs": [],
   "source": [
    "string_list = ['abcde12345', 'fruit', 'fruit2', 'The year is 2023!', '!!!!!_____!!_!_', '??????!!!!', '*@@@@)']"
   ]
  },
  {
   "cell_type": "code",
   "execution_count": 10,
   "id": "f41dc3d4",
   "metadata": {},
   "outputs": [
    {
     "data": {
      "text/plain": [
       "['abcde12345', 'fruit2', 'The year is 2023!']"
      ]
     },
     "execution_count": 10,
     "metadata": {},
     "output_type": "execute_result"
    }
   ],
   "source": [
    "alphanum_strings_list(string_list)"
   ]
  },
  {
   "cell_type": "markdown",
   "id": "c8b7e4d8",
   "metadata": {},
   "source": [
    "### Exercício 4"
   ]
  },
  {
   "cell_type": "code",
   "execution_count": 11,
   "id": "ee09d5af",
   "metadata": {},
   "outputs": [],
   "source": [
    "def all_chars_verify(string1, string2):\n",
    "    for char in string1:\n",
    "        if char not in string2:\n",
    "            return False\n",
    "    return True"
   ]
  },
  {
   "cell_type": "code",
   "execution_count": 12,
   "id": "9c7d76e5",
   "metadata": {
    "scrolled": true
   },
   "outputs": [
    {
     "data": {
      "text/plain": [
       "True"
      ]
     },
     "execution_count": 12,
     "metadata": {},
     "output_type": "execute_result"
    }
   ],
   "source": [
    "string1 = \"abcdefghijklmnopqrstuvwxyz\"\n",
    "string2 = \"zyxwvutsrqponmlkjihgfedcba\"\n",
    "\n",
    "all_chars_verify(string1, string2)"
   ]
  },
  {
   "cell_type": "markdown",
   "id": "1dd3d566",
   "metadata": {},
   "source": [
    "### Exercício 5"
   ]
  },
  {
   "cell_type": "code",
   "execution_count": 13,
   "id": "03e775b0",
   "metadata": {},
   "outputs": [],
   "source": [
    "n = 2\n",
    "mult_matrix = [[0 for i in range(0, n)] for j in range(0, n)]"
   ]
  },
  {
   "cell_type": "code",
   "execution_count": 14,
   "id": "339ca623",
   "metadata": {},
   "outputs": [],
   "source": [
    "def matrix_multiplication(matrix1, matrix2):\n",
    "    n_row = len(matrix1)\n",
    "    n_col = len(matrix2[0])\n",
    "    mult_matrix = [[0 for i in range(0, n_col)] for j in range(0, n_row)]\n",
    "    n_condition1 = len(matrix1[0])\n",
    "    n_condition2 = len(matrix2)\n",
    "    if n_condition1 == n_condition2:\n",
    "        for i in range(0, n_row):\n",
    "            for j in range(0, n_col):\n",
    "                for p in range(0, n_condition1):\n",
    "                    mult_matrix[i][j] += matrix1[i][p] * matrix2[p][j]\n",
    "                \n",
    "    return mult_matrix"
   ]
  },
  {
   "cell_type": "code",
   "execution_count": 15,
   "id": "ed263474",
   "metadata": {},
   "outputs": [
    {
     "data": {
      "text/plain": [
       "[[16, 10], [11, 7], [28, 17]]"
      ]
     },
     "execution_count": 15,
     "metadata": {},
     "output_type": "execute_result"
    }
   ],
   "source": [
    "matrix1 = [[2, 4], [1, 3], [5, 6]]\n",
    "matrix2 = [[2, 1], [3, 2]]\n",
    "mult_matrix = matrix_multiplication(matrix1, matrix2)\n",
    "mult_matrix"
   ]
  },
  {
   "cell_type": "markdown",
   "id": "8fa71158",
   "metadata": {},
   "source": [
    "### Exercício 6"
   ]
  },
  {
   "cell_type": "code",
   "execution_count": 16,
   "id": "49a7e15a",
   "metadata": {},
   "outputs": [],
   "source": [
    "def gen_reverse_list(lt):\n",
    "    n = len(lt)\n",
    "    for i in range(0, n):\n",
    "        yield lt[n - i - 1]"
   ]
  },
  {
   "cell_type": "code",
   "execution_count": 17,
   "id": "82e23cbf",
   "metadata": {},
   "outputs": [
    {
     "name": "stdout",
     "output_type": "stream",
     "text": [
      "8\n",
      "7\n",
      "4\n"
     ]
    }
   ],
   "source": [
    "lt = [4, 7, 8]\n",
    "gen = gen_reverse_list(lt)\n",
    "for i in gen_reverse_list(lt):\n",
    "    print(i)"
   ]
  },
  {
   "cell_type": "markdown",
   "id": "fa43693b",
   "metadata": {},
   "source": [
    "### Exercício 7"
   ]
  },
  {
   "cell_type": "code",
   "execution_count": 18,
   "id": "ef34ad0f",
   "metadata": {},
   "outputs": [],
   "source": [
    "def gen_prime():\n",
    "    number = 1\n",
    "    while True:\n",
    "        is_prime = True\n",
    "        for i in range(2, int(math.sqrt(number)) + 1):\n",
    "            if(number % i == 0):\n",
    "                is_prime = False\n",
    "        if is_prime and number > 1:\n",
    "            yield number\n",
    "        number += 1"
   ]
  },
  {
   "cell_type": "code",
   "execution_count": 19,
   "id": "8d550d62",
   "metadata": {},
   "outputs": [],
   "source": [
    "primes = gen_prime()"
   ]
  },
  {
   "cell_type": "markdown",
   "id": "ae786610",
   "metadata": {},
   "source": [
    "Primeiros 20 primos:"
   ]
  },
  {
   "cell_type": "code",
   "execution_count": 20,
   "id": "06e7ac02",
   "metadata": {},
   "outputs": [
    {
     "name": "stdout",
     "output_type": "stream",
     "text": [
      "2\n",
      "3\n",
      "5\n",
      "7\n",
      "11\n",
      "13\n",
      "17\n",
      "19\n",
      "23\n",
      "29\n",
      "31\n",
      "37\n",
      "41\n",
      "43\n",
      "47\n",
      "53\n",
      "59\n",
      "61\n",
      "67\n",
      "71\n"
     ]
    }
   ],
   "source": [
    "primes = gen_prime()\n",
    "for i in range(0, 20):\n",
    "    print(next(primes))"
   ]
  },
  {
   "cell_type": "markdown",
   "id": "7ad81cbd",
   "metadata": {},
   "source": [
    "### Exercício 8"
   ]
  },
  {
   "cell_type": "code",
   "execution_count": 21,
   "id": "1dc52695",
   "metadata": {},
   "outputs": [],
   "source": [
    "def get_even(lt):\n",
    "    return list(filter(lambda x: x % 2 == 0, lt))"
   ]
  },
  {
   "cell_type": "code",
   "execution_count": 22,
   "id": "be792bb3",
   "metadata": {},
   "outputs": [
    {
     "data": {
      "text/plain": [
       "[2, 4, 6, 8]"
      ]
     },
     "execution_count": 22,
     "metadata": {},
     "output_type": "execute_result"
    }
   ],
   "source": [
    "lt = [1, 2, 3, 4, 5, 6, 7, 8]\n",
    "get_even(lt)"
   ]
  },
  {
   "cell_type": "markdown",
   "id": "6d9c577d",
   "metadata": {},
   "source": [
    "### Exercício 9"
   ]
  },
  {
   "cell_type": "code",
   "execution_count": 23,
   "id": "37dab3db",
   "metadata": {},
   "outputs": [],
   "source": [
    "def apply_func(matrix, func):\n",
    "    result_list = []\n",
    "    result = list(map(func, matrix))\n",
    "    result_list += result\n",
    "    return result_list"
   ]
  },
  {
   "cell_type": "code",
   "execution_count": 24,
   "id": "605905f2",
   "metadata": {},
   "outputs": [
    {
     "data": {
      "text/plain": [
       "[3, 7, 140, 40]"
      ]
     },
     "execution_count": 24,
     "metadata": {},
     "output_type": "execute_result"
    }
   ],
   "source": [
    "matrix = [[1, 2], [3, 4], [20, 120], [10, 30]]\n",
    "apply_func(matrix, sum)"
   ]
  }
 ],
 "metadata": {
  "kernelspec": {
   "display_name": "Python 3 (ipykernel)",
   "language": "python",
   "name": "python3"
  },
  "language_info": {
   "codemirror_mode": {
    "name": "ipython",
    "version": 3
   },
   "file_extension": ".py",
   "mimetype": "text/x-python",
   "name": "python",
   "nbconvert_exporter": "python",
   "pygments_lexer": "ipython3",
   "version": "3.11.1"
  }
 },
 "nbformat": 4,
 "nbformat_minor": 5
}
