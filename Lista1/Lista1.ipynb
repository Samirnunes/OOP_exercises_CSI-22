{
 "cells": [
  {
   "cell_type": "markdown",
   "id": "9ee852bc",
   "metadata": {},
   "source": [
    "## Lista de Exercícios 1 - CSI-22"
   ]
  },
  {
   "cell_type": "markdown",
   "id": "c579333e",
   "metadata": {},
   "source": [
    "### Exercício 1"
   ]
  },
  {
   "cell_type": "code",
   "execution_count": 1,
   "id": "b746d675",
   "metadata": {},
   "outputs": [],
   "source": [
    "import turtle\n",
    "import math"
   ]
  },
  {
   "cell_type": "code",
   "execution_count": 2,
   "id": "6f4d3400",
   "metadata": {
    "scrolled": true
   },
   "outputs": [],
   "source": [
    "def draw_square(t, window, side):\n",
    "    t.penup()\n",
    "    t.goto(0,0)\n",
    "    t.forward(side/2)\n",
    "    t.pendown()\n",
    "    t.left(90)\n",
    "    t.forward(side/2)\n",
    "    t.left(90)\n",
    "    for i in range(0, 3):\n",
    "        t.forward(side)\n",
    "        t.left(90)\n",
    "    t.forward(side/2)\n",
    "\n",
    "turtle.TurtleScreen._RUNNING=True\n",
    "sides = [20*i for i in range(1, 6)]\n",
    "t = turtle.Turtle()\n",
    "window = turtle.Screen()\n",
    "for side in sides:\n",
    "    draw_square(t, window, side)\n",
    "window.mainloop()"
   ]
  },
  {
   "cell_type": "markdown",
   "id": "0ab36ce2",
   "metadata": {},
   "source": [
    "### Exercício 2"
   ]
  },
  {
   "cell_type": "code",
   "execution_count": 3,
   "id": "2a2d2a2f",
   "metadata": {},
   "outputs": [],
   "source": [
    "def draw_poly(t, n, sz):\n",
    "    t.penup()\n",
    "    t.goto(0,0)\n",
    "    theta = 360/n\n",
    "    radius = sz/math.sqrt((2*(1-math.cos(theta))))\n",
    "    t.left(theta/2)\n",
    "    t.forward(radius)\n",
    "    t.left(90 - theta/2)\n",
    "    t.pendown()\n",
    "    for i in range(0, n):\n",
    "        t.forward(sz)\n",
    "        t.left(theta)\n",
    "\n",
    "turtle.TurtleScreen._RUNNING=True\n",
    "t = turtle.Turtle()\n",
    "window = turtle.Screen()\n",
    "draw_poly(t, 8, 50)\n",
    "window.mainloop()"
   ]
  },
  {
   "cell_type": "markdown",
   "id": "0243ed20",
   "metadata": {},
   "source": [
    "### Exercício 3"
   ]
  },
  {
   "cell_type": "code",
   "execution_count": 4,
   "id": "18ea79fb",
   "metadata": {},
   "outputs": [
    {
     "data": {
      "text/plain": [
       "55"
      ]
     },
     "execution_count": 4,
     "metadata": {},
     "output_type": "execute_result"
    }
   ],
   "source": [
    "def sum_to(n):\n",
    "    s = 0\n",
    "    for i in range(0, n + 1):\n",
    "        s += i\n",
    "    return s\n",
    "\n",
    "sum_to(10)"
   ]
  },
  {
   "cell_type": "markdown",
   "id": "53c87482",
   "metadata": {},
   "source": [
    "### Exercício 4"
   ]
  },
  {
   "cell_type": "code",
   "execution_count": 5,
   "id": "bbbc488c",
   "metadata": {},
   "outputs": [],
   "source": [
    "def draw_spiral_with_turn_angle(t, n, sz, delta_sz, turn_angle):\n",
    "    t.penup()\n",
    "    t.goto(0,0)\n",
    "    t.pendown()\n",
    "    for i in range(0, n):\n",
    "        t.forward(sz)\n",
    "        t.right(turn_angle)\n",
    "        sz += delta_sz"
   ]
  },
  {
   "cell_type": "code",
   "execution_count": 6,
   "id": "2cf9ad8c",
   "metadata": {
    "scrolled": true
   },
   "outputs": [],
   "source": [
    "# First picture: spiral with delta_angle = 0\n",
    "turtle.TurtleScreen._RUNNING=True\n",
    "t = turtle.Turtle()\n",
    "window = turtle.Screen()\n",
    "draw_spiral_with_turn_angle(t, 76, 5, 2, 90)\n",
    "window.mainloop()"
   ]
  },
  {
   "cell_type": "code",
   "execution_count": 7,
   "id": "81265ec6",
   "metadata": {
    "scrolled": true
   },
   "outputs": [],
   "source": [
    "# Second picture: spiral with delta_angle != 0\n",
    "turtle.TurtleScreen._RUNNING=True\n",
    "t = turtle.Turtle()\n",
    "window = turtle.Screen()\n",
    "draw_spiral_with_turn_angle(t, 104, 1, 2, 89)\n",
    "window.mainloop()"
   ]
  }
 ],
 "metadata": {
  "kernelspec": {
   "display_name": "Python 3 (ipykernel)",
   "language": "python",
   "name": "python3"
  },
  "language_info": {
   "codemirror_mode": {
    "name": "ipython",
    "version": 3
   },
   "file_extension": ".py",
   "mimetype": "text/x-python",
   "name": "python",
   "nbconvert_exporter": "python",
   "pygments_lexer": "ipython3",
   "version": "3.11.1"
  }
 },
 "nbformat": 4,
 "nbformat_minor": 5
}
