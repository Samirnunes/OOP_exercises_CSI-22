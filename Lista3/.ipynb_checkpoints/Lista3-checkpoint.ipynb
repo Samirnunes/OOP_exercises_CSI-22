{
 "cells": [
  {
   "cell_type": "markdown",
   "id": "8b372ed5",
   "metadata": {},
   "source": [
    "## Lista de Exercícios 3 - CSI-22"
   ]
  },
  {
   "cell_type": "code",
   "execution_count": 1,
   "id": "c329de77",
   "metadata": {},
   "outputs": [],
   "source": [
    "from abc import ABC, abstractmethod"
   ]
  },
  {
   "cell_type": "markdown",
   "id": "a721ee15",
   "metadata": {},
   "source": [
    "### Exercício 1"
   ]
  },
  {
   "cell_type": "code",
   "execution_count": 2,
   "id": "96547255",
   "metadata": {},
   "outputs": [
    {
     "name": "stdout",
     "output_type": "stream",
     "text": [
      "Total Bus fare is: 5500.0\n"
     ]
    }
   ],
   "source": [
    "class Vehicle:\n",
    "    def __init__(self, name, mileage, capacity):\n",
    "        self.name = name\n",
    "        self.mileage = mileage\n",
    "        self.capacity = capacity\n",
    "        \n",
    "    def fare(self):\n",
    "        return self.capacity * 100\n",
    "    \n",
    "class Bus(Vehicle):\n",
    "    def fare(self):\n",
    "        return 1.1*super().fare()\n",
    "\n",
    "School_bus = Bus(\"School Volvo\", 12, 50)\n",
    "print(\"Total Bus fare is:\", School_bus.fare())"
   ]
  },
  {
   "cell_type": "markdown",
   "id": "6d2ab7b1",
   "metadata": {},
   "source": [
    "### Exercício 2"
   ]
  },
  {
   "cell_type": "markdown",
   "id": "dcea9b45",
   "metadata": {},
   "source": [
    "#### Herança múltipla"
   ]
  },
  {
   "cell_type": "markdown",
   "id": "84c7155c",
   "metadata": {},
   "source": [
    "- __MRO: Method Resolution Order.__\n",
    "\n",
    "Em Python: de baixo para cima, da esquerda para a direita."
   ]
  },
  {
   "cell_type": "code",
   "execution_count": 3,
   "id": "8506778a",
   "metadata": {},
   "outputs": [],
   "source": [
    "class Game:\n",
    "    def info(self):\n",
    "        print('It is simply a game!')\n",
    "        \n",
    "    def aditional_info(self):\n",
    "        print('Some game aditional info.')\n",
    "        \n",
    "    def general_info(self):\n",
    "        print('General info about games.')\n",
    "        \n",
    "class RPGGame(Game):\n",
    "    def info(self):\n",
    "        print('It is an role-playing game!')\n",
    "        \n",
    "    def aditional_info(self):\n",
    "        print('Some RPG games aditional info.')\n",
    "\n",
    "class ActionGame(Game):\n",
    "    def info(self):\n",
    "        print('It is an action game!')\n",
    "\n",
    "class FinalFantasyXV(ActionGame, RPGGame):\n",
    "    pass"
   ]
  },
  {
   "cell_type": "code",
   "execution_count": 4,
   "id": "cb7100d2",
   "metadata": {},
   "outputs": [
    {
     "name": "stdout",
     "output_type": "stream",
     "text": [
      "It is an action game!\n",
      "Some RPG games aditional info.\n",
      "General info about games.\n"
     ]
    }
   ],
   "source": [
    "ffxv = FinalFantasyXV()\n",
    "ffxv.info()\n",
    "ffxv.aditional_info()\n",
    "ffxv.general_info()"
   ]
  },
  {
   "cell_type": "markdown",
   "id": "47a0928f",
   "metadata": {},
   "source": [
    "Esse exemplo mostra que a ordem de resolução do método 'info' foi justamente de baixo para cima e da esquerda para a direita, sendo primeiro encontrado na classe 'ActionGame', que foi colocada à esquerda na herança múltipla. Além disso, como o método 'aditional_info' é encontrado primeiramente em RPGGame (já que a ordem é vista de baixo para cima na herança), ele é chamado justamente dessa classe. Por fim, o método 'general_info' só é encontrado na classe pai inicial. Consequentemente, esse método é dela chamado."
   ]
  },
  {
   "cell_type": "markdown",
   "id": "fe27e740",
   "metadata": {},
   "source": [
    "### Exercício 3"
   ]
  },
  {
   "cell_type": "markdown",
   "id": "58486dd6",
   "metadata": {},
   "source": [
    "__Polimorfismo__"
   ]
  },
  {
   "cell_type": "code",
   "execution_count": 5,
   "id": "fdcfffbf",
   "metadata": {},
   "outputs": [],
   "source": [
    "class Game(ABC):\n",
    "    \n",
    "    @abstractmethod\n",
    "    def name(self):\n",
    "        pass\n",
    "    \n",
    "    @abstractmethod\n",
    "    def genre(self):\n",
    "        pass\n",
    "    \n",
    "    @abstractmethod\n",
    "    def release_date(self):\n",
    "        pass\n",
    "\n",
    "    @abstractmethod\n",
    "    def age_classification(self):\n",
    "        pass\n",
    "\n",
    "class CastlevaniaSOTL(Game):\n",
    "    def name(self):\n",
    "        return 'Castlevania Symphony of the Night'\n",
    "        \n",
    "    def genre(self):\n",
    "        return 'Metroidvania'\n",
    "        \n",
    "    def release_date(self):\n",
    "        return '03/20/1997'\n",
    "        \n",
    "    def age_classification(self):\n",
    "        return '13+'\n",
    "        \n",
    "class PokemonFireRed(Game):\n",
    "    def name(self):\n",
    "        return 'Pokémon Fire Red'\n",
    "    \n",
    "    def genre(self):\n",
    "        return 'Turn-based strategy'\n",
    "    \n",
    "    def release_date(self):\n",
    "        return '01/29/2004'\n",
    "    \n",
    "    def age_classification(self):\n",
    "        return '6+'"
   ]
  },
  {
   "cell_type": "markdown",
   "id": "a8f73e7e",
   "metadata": {},
   "source": [
    "Vamos verificar o Override dos métodos 'name', 'genre', 'release_date' e 'age_classification' nas duas classes filhas e, portanto, mostrar uma forma de Polimorfismo (polimorfismo com herança):"
   ]
  },
  {
   "cell_type": "code",
   "execution_count": 6,
   "id": "03c82bd9",
   "metadata": {
    "scrolled": true
   },
   "outputs": [
    {
     "name": "stdout",
     "output_type": "stream",
     "text": [
      "Name: Castlevania Symphony of the Night\n",
      "Genre: Metroidvania\n",
      "Release Date: 03/20/1997\n",
      "Age Classification: 13+\n",
      "\n",
      "Name: Pokémon Fire Red\n",
      "Genre: Turn-based strategy\n",
      "Release Date: 01/29/2004\n",
      "Age Classification: 6+\n",
      "\n"
     ]
    }
   ],
   "source": [
    "castlevania = CastlevaniaSOTL()\n",
    "pokemon = PokemonFireRed()\n",
    "\n",
    "for game in (castlevania, pokemon):\n",
    "    print(f'Name: {game.name()}')\n",
    "    print(f'Genre: {game.genre()}')\n",
    "    print(f'Release Date: {game.release_date()}')\n",
    "    print(f'Age Classification: {game.age_classification()}\\n')"
   ]
  },
  {
   "cell_type": "markdown",
   "id": "cf5a40c2",
   "metadata": {},
   "source": [
    "__Duck Typing__\n",
    "\n",
    "__- Tipagem dinâmica em Python__\n",
    "\n",
    "__- \"A classe ou o tipo de um objeto é menos importante que os métodos que ele define\"__\n",
    "\n",
    "Vamos verificar esse conceito a partir de um exemplo:"
   ]
  },
  {
   "cell_type": "code",
   "execution_count": 7,
   "id": "a1cd36c8",
   "metadata": {},
   "outputs": [],
   "source": [
    "class Name:\n",
    "    def __init__(self, name):\n",
    "        self.name = name\n",
    "    \n",
    "    def __len__(self):\n",
    "        print('''This is Name's call!''')\n",
    "        return len(self.name)"
   ]
  },
  {
   "cell_type": "markdown",
   "id": "356a4714",
   "metadata": {},
   "source": [
    "Vamos escolher um exemplo com três objetos que podem ser usados como parâmetro da função __len__ (isto é, possuem __len__ como um de seus métodos implementados) e com um objeto que não possui __len__ como um dos seus métodos. "
   ]
  },
  {
   "cell_type": "code",
   "execution_count": 8,
   "id": "e3ff4acd",
   "metadata": {},
   "outputs": [],
   "source": [
    "example_list = [Name('Samir'), 'This is a string!', [1, 2, 3, 4]]\n",
    "example_int = 999"
   ]
  },
  {
   "cell_type": "code",
   "execution_count": 9,
   "id": "bd432885",
   "metadata": {},
   "outputs": [
    {
     "name": "stdout",
     "output_type": "stream",
     "text": [
      "This is Name's call!\n",
      "5\n",
      "17\n",
      "4\n"
     ]
    }
   ],
   "source": [
    "for obj in example_list:\n",
    "    print(len(obj))"
   ]
  },
  {
   "cell_type": "code",
   "execution_count": 10,
   "id": "7f761c43",
   "metadata": {
    "scrolled": true
   },
   "outputs": [
    {
     "ename": "TypeError",
     "evalue": "object of type 'int' has no len()",
     "output_type": "error",
     "traceback": [
      "\u001b[1;31m---------------------------------------------------------------------------\u001b[0m",
      "\u001b[1;31mTypeError\u001b[0m                                 Traceback (most recent call last)",
      "Cell \u001b[1;32mIn[10], line 1\u001b[0m\n\u001b[1;32m----> 1\u001b[0m \u001b[38;5;28;43mlen\u001b[39;49m\u001b[43m(\u001b[49m\u001b[43mexample_int\u001b[49m\u001b[43m)\u001b[49m\n",
      "\u001b[1;31mTypeError\u001b[0m: object of type 'int' has no len()"
     ]
    }
   ],
   "source": [
    "len(example_int)"
   ]
  },
  {
   "cell_type": "markdown",
   "id": "01eac542",
   "metadata": {},
   "source": [
    "Vemos que independente do objeto, se ele possui __len__ como um de seus métodos, a função é executada. Por outro lado, caso o objeto não possua essa função, um erro do tipo \"TypeError\" é levantado."
   ]
  },
  {
   "cell_type": "markdown",
   "id": "34e03e8b",
   "metadata": {},
   "source": [
    "### Exercício 4"
   ]
  },
  {
   "cell_type": "markdown",
   "id": "4c47e9b3",
   "metadata": {},
   "source": [
    "__Diferenciando métodos de instância, de classe e estáticos__"
   ]
  },
  {
   "cell_type": "code",
   "execution_count": 11,
   "id": "a9d63bd9",
   "metadata": {},
   "outputs": [],
   "source": [
    "class Product:\n",
    "    place = 'Shelf Nº 1'\n",
    "    \n",
    "    def __init__(self, cost):\n",
    "        self.cost = cost\n",
    "        \n",
    "    def info(self):\n",
    "        return 'Product info...'\n",
    "    \n",
    "    @classmethod\n",
    "    def change_place(cls, place):\n",
    "        cls.place = place\n",
    "        \n",
    "    @staticmethod\n",
    "    def compare_costs(product1_cost, product2_cost):\n",
    "        if product1_cost > product2_cost:\n",
    "            print('First product is more expensive!')\n",
    "        elif product1_cost < product2_cost:\n",
    "            print('Second product is more expensive!')\n",
    "        else:\n",
    "            print('Products have same cost!')"
   ]
  },
  {
   "cell_type": "markdown",
   "id": "64d353ec",
   "metadata": {},
   "source": [
    "- __Método de instância__"
   ]
  },
  {
   "cell_type": "markdown",
   "id": "c6f9497e",
   "metadata": {},
   "source": [
    "Depende da existência de uma instância para ser chamado."
   ]
  },
  {
   "cell_type": "code",
   "execution_count": 12,
   "id": "464d3821",
   "metadata": {},
   "outputs": [
    {
     "data": {
      "text/plain": [
       "'Product info...'"
      ]
     },
     "execution_count": 12,
     "metadata": {},
     "output_type": "execute_result"
    }
   ],
   "source": [
    "prod1 = Product(100)\n",
    "prod2 = Product(100)\n",
    "prod1.info() # Aqui a instância da classe (objeto) está sendo passada de argumento para a função."
   ]
  },
  {
   "cell_type": "markdown",
   "id": "0eeefa52",
   "metadata": {},
   "source": [
    "- __Método de classe__"
   ]
  },
  {
   "cell_type": "markdown",
   "id": "a024f820",
   "metadata": {},
   "source": [
    "Consegue acessar atributos de classe e alterá-los, e pode ser chamado independente da existência de uma instância da classe."
   ]
  },
  {
   "cell_type": "markdown",
   "id": "6baeb3eb",
   "metadata": {},
   "source": [
    "Local anterior do produto:"
   ]
  },
  {
   "cell_type": "code",
   "execution_count": 13,
   "id": "7d4d5581",
   "metadata": {
    "scrolled": false
   },
   "outputs": [
    {
     "data": {
      "text/plain": [
       "'Shelf Nº 1'"
      ]
     },
     "execution_count": 13,
     "metadata": {},
     "output_type": "execute_result"
    }
   ],
   "source": [
    "prod1.place"
   ]
  },
  {
   "cell_type": "markdown",
   "id": "4d20001b",
   "metadata": {},
   "source": [
    "Novo local dos objetos da classe Product:"
   ]
  },
  {
   "cell_type": "code",
   "execution_count": 14,
   "id": "19c09919",
   "metadata": {},
   "outputs": [
    {
     "name": "stdout",
     "output_type": "stream",
     "text": [
      "Local do produto 1: Shelf Nº 2\n",
      "Local do produto 2: Shelf Nº 2\n"
     ]
    }
   ],
   "source": [
    "Product.change_place('Shelf Nº 2') # Aqui Product está sendo passado de argumento para a função change_place.\n",
    "print(f'Local do produto 1: {prod1.place}\\nLocal do produto 2: {prod2.place}')"
   ]
  },
  {
   "cell_type": "markdown",
   "id": "e453e84a",
   "metadata": {},
   "source": [
    "- __Método estático__"
   ]
  },
  {
   "cell_type": "markdown",
   "id": "008aac6d",
   "metadata": {},
   "source": [
    "Sua chamada independe da existência de uma instância da classe e não possui acesso à classe nem à instância."
   ]
  },
  {
   "cell_type": "code",
   "execution_count": 15,
   "id": "34cef130",
   "metadata": {
    "scrolled": true
   },
   "outputs": [
    {
     "name": "stdout",
     "output_type": "stream",
     "text": [
      "Products have same cost!\n"
     ]
    }
   ],
   "source": [
    "Product.compare_costs(prod1.cost, prod2.cost) # Aqui Product faz referência apenas ao espaço de nomes da classe Product."
   ]
  }
 ],
 "metadata": {
  "kernelspec": {
   "display_name": "Python 3 (ipykernel)",
   "language": "python",
   "name": "python3"
  },
  "language_info": {
   "codemirror_mode": {
    "name": "ipython",
    "version": 3
   },
   "file_extension": ".py",
   "mimetype": "text/x-python",
   "name": "python",
   "nbconvert_exporter": "python",
   "pygments_lexer": "ipython3",
   "version": "3.11.1"
  }
 },
 "nbformat": 4,
 "nbformat_minor": 5
}
